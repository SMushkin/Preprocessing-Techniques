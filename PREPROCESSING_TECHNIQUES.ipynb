{
  "nbformat": 4,
  "nbformat_minor": 0,
  "metadata": {
    "kernelspec": {
      "display_name": "Python 3",
      "language": "python",
      "name": "python3"
    },
    "language_info": {
      "codemirror_mode": {
        "name": "ipython",
        "version": 3
      },
      "file_extension": ".py",
      "mimetype": "text/x-python",
      "name": "python",
      "nbconvert_exporter": "python",
      "pygments_lexer": "ipython3",
      "version": "3.8.5"
    },
    "colab": {
      "name": "PREPROCESSING TECHNIQUES.ipynb",
      "provenance": []
    }
  },
  "cells": [
    {
      "cell_type": "markdown",
      "metadata": {
        "id": "oZjkDHZ3gQik"
      },
      "source": [
        "# BINARISATION"
      ]
    },
    {
      "cell_type": "code",
      "metadata": {
        "id": "lJUOeh7agQip"
      },
      "source": [
        "import numpy as np\n",
        "from sklearn import preprocessing"
      ],
      "execution_count": null,
      "outputs": []
    },
    {
      "cell_type": "code",
      "metadata": {
        "id": "LfW_UTSygQiq",
        "outputId": "7c5c5f09-4eca-4239-e550-6590c198d90b"
      },
      "source": [
        "x=np.array([[1.2,-2.3,3.7],[2.7,-9.7,-8.6]])\n",
        "print(x)"
      ],
      "execution_count": null,
      "outputs": [
        {
          "name": "stdout",
          "output_type": "stream",
          "text": [
            "[[ 1.2 -2.3  3.7]\n",
            " [ 2.7 -9.7 -8.6]]\n"
          ]
        }
      ]
    },
    {
      "cell_type": "code",
      "metadata": {
        "id": "iVrLBIxDgQir",
        "outputId": "79bb12f5-e99d-46d5-e14e-619ea96da3aa"
      },
      "source": [
        "x_binarized=preprocessing.Binarizer(threshold=2.1).transform(x)\n",
        "x_binarized"
      ],
      "execution_count": null,
      "outputs": [
        {
          "data": {
            "text/plain": [
              "array([[0., 0., 1.],\n",
              "       [1., 0., 0.]])"
            ]
          },
          "execution_count": 5,
          "metadata": {},
          "output_type": "execute_result"
        }
      ]
    },
    {
      "cell_type": "markdown",
      "metadata": {
        "id": "_WxVZ7REgQis"
      },
      "source": [
        "# SCALING -MINMAXSCALER"
      ]
    },
    {
      "cell_type": "code",
      "metadata": {
        "id": "XevB-grVgQis"
      },
      "source": [
        "x_minmax=preprocessing.MinMaxScaler(feature_range=(0,1))"
      ],
      "execution_count": null,
      "outputs": []
    },
    {
      "cell_type": "code",
      "metadata": {
        "id": "YdeOgGgKgQit",
        "outputId": "552eb303-000f-43b5-f80d-8a8f789887ed"
      },
      "source": [
        "x_minmax.fit_transform(x)"
      ],
      "execution_count": null,
      "outputs": [
        {
          "data": {
            "text/plain": [
              "array([[0., 1., 1.],\n",
              "       [1., 0., 0.]])"
            ]
          },
          "execution_count": 8,
          "metadata": {},
          "output_type": "execute_result"
        }
      ]
    },
    {
      "cell_type": "code",
      "metadata": {
        "id": "TKH804GJgQit"
      },
      "source": [
        ""
      ],
      "execution_count": null,
      "outputs": []
    }
  ]
}